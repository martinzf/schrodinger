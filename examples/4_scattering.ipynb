{
 "cells": [
  {
   "cell_type": "code",
   "execution_count": 1,
   "metadata": {},
   "outputs": [],
   "source": [
    "import jax\n",
    "import jax.numpy as np\n",
    "jax.config.update('jax_enable_x64', True)\n",
    "import matplotlib.pyplot as plt\n",
    "\n",
    "import sys\n",
    "sys.path.append('../')\n",
    "import schrodinger"
   ]
  },
  {
   "cell_type": "markdown",
   "metadata": {},
   "source": [
    "## Lippmann-Schwinger Equation\n",
    "\n",
    "Consider a free particle which interacts with (is scattered by) a potential $V$ in some region of space. We would expect both the incident and scattered wavefunctions, far away from the interaction region, to be related to solutions of the free Hamiltonian $H_0$. Specifically, let the full Hamiltonian be\n",
    "\n",
    "$$\n",
    "H = H_0 + V \n",
    "$$\n",
    "\n",
    "\n",
    "\n",
    "Let's look for a solution to the complete Schrödinger equation:\n",
    "\n",
    "$$\n",
    "(H_0+V)|\\psi\\rangle = E|\\psi\\rangle\n",
    "$$\n",
    "\n",
    "It will be very convenient to isolate the term with the potential on one side of the equation, by inverting $E-H_0$. However, we may notice that since a free solution $|\\psi_0\\rangle$ with energy $E$ is in the kernel of $(E-H_0)$, the most general expression we can obtain is what is known as the Lippmann-Schwinger equation:\n",
    "\n",
    "$$\n",
    "|\\psi\\rangle=|\\psi_0\\rangle+(E-H_0)^{-1}V|\\psi\\rangle\n",
    "$$\n",
    "\n",
    "Since $E-H_0$ is singular, the equation is ill-defined. The many ways one can regularise this operator leads to various possible definitions of Green's functions. In particular, we'll be interested in the retarded (causal) Green's function, defined as\n",
    "\n",
    "$$\n",
    "G^{(+)}=\\lim_{\\varepsilon\\rightarrow0} (E-H_0+i\\varepsilon)^{-1}\n",
    "$$\n",
    "\n",
    "Furthermore, let $G^{(+)}(\\mathbf{x}, \\mathbf{x}')\\equiv \\langle\\mathbf{x}|G^{(+)}|\\mathbf{x}'\\rangle$ and $\\psi(\\mathbf{x})=\\langle\\mathbf{x}|\\psi\\rangle$. The Lippmann-Schwinger equation in the position basis (in $n$ dimensions) reads\n",
    "\n",
    "$$\n",
    "\\langle\\mathbf{x}|\\psi\\rangle = \\langle\\mathbf{x}|\\psi_0\\rangle + \n",
    "\\langle\\mathbf{x}|G^{(+)}\\left(\\int\\mathrm{d}^n\\mathbf{x'} |\\mathbf{x}'\\rangle\\langle\\mathbf{x}'|\\right)V|\\psi\\rangle\n",
    "$$\n",
    "\n",
    "$$\n",
    "\\psi(\\mathbf{x})=\\psi_0(\\mathbf{x}) + \\int\\mathrm{d}^n\\mathbf{x'}G^{(+)}(\\mathbf{x}, \\mathbf{x}')V(\\mathbf{x}')\\psi(\\mathbf{x}')\n",
    "$$"
   ]
  },
  {
   "cell_type": "markdown",
   "metadata": {},
   "source": [
    "## Green's Function\n",
    "\n",
    "Let the free particle problem be\n",
    "\n",
    "$$\n",
    "H_0 = -\\frac{1}{2}\\nabla^2, \\quad H_0 |\\mathbf{k}\\rangle = E_k|\\mathbf{k}\\rangle\n",
    "$$\n",
    "\n",
    "where clearly in $n$ dimensions\n",
    "\n",
    "$$\n",
    "E_k = \\frac{\\mathbf{k}^2}{2},\\quad \\langle\\mathbf{x}|\\mathbf{k}\\rangle = (2\\pi)^{-n/2} e^{i\\mathbf{k}\\cdot\\mathbf{x}}\n",
    "$$\n",
    "\n",
    "We can see the Green's function takes on the interpretation of an impulse response:\n",
    "\n",
    "For this free Hamiltonian, the Green's function in the position basis reads\n",
    "\n",
    "$$\n",
    "G^{(+)}(\\mathbf{x},\\mathbf{x}')=\\frac{2}{(2\\pi)^n}\\int\\mathrm{d}^n\\mathbf{k}'\n",
    "\\frac{e^{i\\mathbf{k}'\\cdot(\\mathbf{x}-\\mathbf{x}')}}{k^2-\\mathbf{k}'^2+i\\varepsilon}\n",
    "$$"
   ]
  },
  {
   "cell_type": "markdown",
   "metadata": {},
   "source": [
    "## Born Approximation\n",
    "\n"
   ]
  },
  {
   "cell_type": "markdown",
   "metadata": {},
   "source": [
    "and the free particle problem\n",
    "\n",
    "$$\n",
    "H_0 = -\\frac{1}{2}\\nabla^2, \\quad H_0 |\\mathbf{k}\\rangle = E_k|\\mathbf{k}\\rangle\n",
    "$$\n",
    "\n",
    "where clearly (in $d$ dimensions)\n",
    "\n",
    "$$\n",
    "E_k = \\frac{\\mathbf{k}^2}{2},\\quad \\langle\\mathbf{x}|\\mathbf{k}\\rangle = (2\\pi)^{-d/2} e^{i\\mathbf{k}\\cdot\\mathbf{x}}\n",
    "$$\n",
    "\n",
    "In the position basis\n",
    "\n",
    "$$\n",
    "\\langle\\mathbf{x}|G^{(+)}|\\mathbf{y}\\rangle \\equiv G^{(+)}(\\mathbf{x},\\mathbf{y})=\\frac{2}{(2\\pi)^d}\\int\\mathrm{d}^d\\mathbf{k}'\n",
    "\\frac{e^{i\\mathbf{k}'\\cdot(\\mathbf{x}-\\mathbf{y})}}{k^2-\\mathbf{k}'^2+i\\varepsilon}\n",
    "$$\n",
    "\n",
    "Let's for instance study the Yukawa potential."
   ]
  },
  {
   "cell_type": "code",
   "execution_count": 2,
   "metadata": {},
   "outputs": [
    {
     "ename": "ValueError",
     "evalue": "Periodic bdry. cond. not satisfied with rtol=1.00e-05, atol=1.00e-08.",
     "output_type": "error",
     "traceback": [
      "\u001b[1;31m---------------------------------------------------------------------------\u001b[0m",
      "\u001b[1;31mValueError\u001b[0m                                Traceback (most recent call last)",
      "Cell \u001b[1;32mIn[2], line 14\u001b[0m\n\u001b[0;32m     12\u001b[0m x1 \u001b[38;5;241m=\u001b[39m \u001b[38;5;28;01mlambda\u001b[39;00m t: \u001b[38;5;241m-\u001b[39mL\u001b[38;5;241m/\u001b[39m\u001b[38;5;241m2\u001b[39m\n\u001b[0;32m     13\u001b[0m x2 \u001b[38;5;241m=\u001b[39m \u001b[38;5;28;01mlambda\u001b[39;00m t: L\u001b[38;5;241m/\u001b[39m\u001b[38;5;241m2\u001b[39m\n\u001b[1;32m---> 14\u001b[0m psi \u001b[38;5;241m=\u001b[39m \u001b[43mschrodinger\u001b[49m\u001b[38;5;241;43m.\u001b[39;49m\u001b[43msolve\u001b[49m\u001b[43m(\u001b[49m\u001b[43mpsi0\u001b[49m\u001b[43m,\u001b[49m\u001b[43m \u001b[49m\u001b[43mt\u001b[49m\u001b[43m,\u001b[49m\u001b[43m \u001b[49m\u001b[43mx1\u001b[49m\u001b[43m,\u001b[49m\u001b[43m \u001b[49m\u001b[43mx2\u001b[49m\u001b[43m,\u001b[49m\u001b[43m \u001b[49m\u001b[43mV\u001b[49m\u001b[43m,\u001b[49m\u001b[43m \u001b[49m\u001b[43mBC\u001b[49m\u001b[38;5;241;43m=\u001b[39;49m\u001b[38;5;124;43m'\u001b[39;49m\u001b[38;5;124;43mperiodic\u001b[39;49m\u001b[38;5;124;43m'\u001b[39;49m\u001b[43m)\u001b[49m\n",
      "File \u001b[1;32mc:\\Users\\zapat\\Escritorio\\CODE\\schrodinger\\examples\\..\\schrodinger\\solver.py:34\u001b[0m, in \u001b[0;36msolve\u001b[1;34m(psi0, t, x1, x2, V, BC, imag)\u001b[0m\n\u001b[0;32m     32\u001b[0m Nx \u001b[38;5;241m=\u001b[39m \u001b[38;5;28mlen\u001b[39m(psi0)\n\u001b[0;32m     33\u001b[0m psi \u001b[38;5;241m=\u001b[39m np\u001b[38;5;241m.\u001b[39mempty((Nt, Nx), dtype\u001b[38;5;241m=\u001b[39mnp\u001b[38;5;241m.\u001b[39mcomplex128)\n\u001b[1;32m---> 34\u001b[0m \u001b[43mutils\u001b[49m\u001b[38;5;241;43m.\u001b[39;49m\u001b[43mcheck_bc\u001b[49m\u001b[43m(\u001b[49m\u001b[43mpsi0\u001b[49m\u001b[43m,\u001b[49m\u001b[43m \u001b[49m\u001b[43mBC\u001b[49m\u001b[43m)\u001b[49m\n\u001b[0;32m     35\u001b[0m utils\u001b[38;5;241m.\u001b[39mcheck_bdry(t, x1, x2)\n\u001b[0;32m     37\u001b[0m \u001b[38;5;66;03m# Coordinates (t, x)\u001b[39;00m\n",
      "File \u001b[1;32mc:\\Users\\zapat\\Escritorio\\CODE\\schrodinger\\examples\\..\\schrodinger\\utils.py:27\u001b[0m, in \u001b[0;36mcheck_bc\u001b[1;34m(psi0, BC, rtol, atol)\u001b[0m\n\u001b[0;32m     25\u001b[0m \u001b[38;5;28;01mif\u001b[39;00m BC \u001b[38;5;241m==\u001b[39m \u001b[38;5;124m'\u001b[39m\u001b[38;5;124mperiodic\u001b[39m\u001b[38;5;124m'\u001b[39m:\n\u001b[0;32m     26\u001b[0m     \u001b[38;5;28;01mif\u001b[39;00m \u001b[38;5;129;01mnot\u001b[39;00m np\u001b[38;5;241m.\u001b[39misclose(psi0[\u001b[38;5;241m0\u001b[39m], psi0[\u001b[38;5;241m-\u001b[39m\u001b[38;5;241m1\u001b[39m], rtol, atol):\n\u001b[1;32m---> 27\u001b[0m         \u001b[38;5;28;01mraise\u001b[39;00m \u001b[38;5;167;01mValueError\u001b[39;00m(\u001b[38;5;124mf\u001b[39m\u001b[38;5;124m'\u001b[39m\u001b[38;5;124mPeriodic bdry. cond. not satisfied with rtol=\u001b[39m\u001b[38;5;132;01m{\u001b[39;00mrtol\u001b[38;5;132;01m:\u001b[39;00m\u001b[38;5;124m.2e\u001b[39m\u001b[38;5;132;01m}\u001b[39;00m\u001b[38;5;124m, atol=\u001b[39m\u001b[38;5;132;01m{\u001b[39;00matol\u001b[38;5;132;01m:\u001b[39;00m\u001b[38;5;124m.2e\u001b[39m\u001b[38;5;132;01m}\u001b[39;00m\u001b[38;5;124m.\u001b[39m\u001b[38;5;124m'\u001b[39m)\n\u001b[0;32m     28\u001b[0m \u001b[38;5;28;01melif\u001b[39;00m BC \u001b[38;5;241m==\u001b[39m \u001b[38;5;124m'\u001b[39m\u001b[38;5;124mdirichlet\u001b[39m\u001b[38;5;124m'\u001b[39m:\n\u001b[0;32m     29\u001b[0m     \u001b[38;5;28;01mif\u001b[39;00m \u001b[38;5;129;01mnot\u001b[39;00m np\u001b[38;5;241m.\u001b[39misclose(psi0[\u001b[38;5;241m0\u001b[39m], \u001b[38;5;241m0\u001b[39m, rtol, atol):\n",
      "\u001b[1;31mValueError\u001b[0m: Periodic bdry. cond. not satisfied with rtol=1.00e-05, atol=1.00e-08."
     ]
    }
   ],
   "source": [
    "L = 10\n",
    "T = 5\n",
    "k0 = 100/L\n",
    "x0 = -L/3\n",
    "s = L/10\n",
    "V0 = 100000\n",
    "\n",
    "t = np.linspace(0, T, 100)\n",
    "x = np.linspace(-L/2, L/2, 1000)\n",
    "psi0 = np.exp(1j*k0*x)*np.exp(-(x-x0)**2/(2*s**2))\n",
    "V  = lambda t, x: -1j * V0 * np.exp(-(L/2-np.abs(x))**2/.5)\n",
    "x1 = lambda t: -L/2\n",
    "x2 = lambda t: L/2\n",
    "psi = schrodinger.solve(psi0, t, x1, x2, V, BC='periodic')"
   ]
  },
  {
   "cell_type": "code",
   "execution_count": 240,
   "metadata": {},
   "outputs": [],
   "source": [
    "ani = psi.animate()\n",
    "plt.show()"
   ]
  },
  {
   "cell_type": "code",
   "execution_count": 241,
   "metadata": {},
   "outputs": [],
   "source": [
    "plt.plot(x, V(0, x).imag)\n",
    "plt.show()"
   ]
  },
  {
   "cell_type": "markdown",
   "metadata": {},
   "source": [
    "## References\n",
    "\n",
    "[1] Sakurai, J., & Napolitano, J. (2020). *Modern Quantum Mechanics*. Cambridge University Press."
   ]
  }
 ],
 "metadata": {
  "kernelspec": {
   "display_name": "venv",
   "language": "python",
   "name": "python3"
  },
  "language_info": {
   "codemirror_mode": {
    "name": "ipython",
    "version": 3
   },
   "file_extension": ".py",
   "mimetype": "text/x-python",
   "name": "python",
   "nbconvert_exporter": "python",
   "pygments_lexer": "ipython3",
   "version": "3.11.0"
  }
 },
 "nbformat": 4,
 "nbformat_minor": 2
}
