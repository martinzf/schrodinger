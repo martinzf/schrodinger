{
 "cells": [
  {
   "cell_type": "code",
   "execution_count": 4,
   "metadata": {},
   "outputs": [],
   "source": [
    "import jax\n",
    "import jax.numpy as np\n",
    "jax.config.update('jax_enable_x64', True)\n",
    "import matplotlib.pyplot as plt\n",
    "\n",
    "import sys\n",
    "sys.path.append('../')\n",
    "import schrodinger"
   ]
  },
  {
   "cell_type": "markdown",
   "metadata": {},
   "source": [
    "## Introduction\n",
    "\n",
    "This repository is built to simulate the Schrödinger equation. Provided a potential $V(t, x)$, moving boundaries $[x_1(t),x_2(t)]$, and boundary conditions $f_1(t)$, $f_2(t)$, a solution wavefunction $\\psi$ satisfies\n",
    "\n",
    "$$\n",
    "\\begin{aligned}\n",
    "&i\\partial_t \\psi(t, x) = \\left(-\\frac{1}{2}\\partial_x^2+V(t, x)\\right)\\psi(t, x)\\\\\n",
    "&\\begin{cases}\n",
    "\\psi\\bigr\\vert_{x_1}=f_1(t)\\\\[.5em]\n",
    "\\psi\\bigr\\vert_{x_2}=f_2(t)\n",
    "\\end{cases}\n",
    "\\end{aligned}\n",
    "$$\n",
    "\n",
    "or, alternatively, the same equation with periodic boundary conditions.\n",
    "\n",
    "To build the problem we'll define functions for $x_1(t),x_2(t),f_1(t),f_2(t),V(t, x)$ and feed them to our numerical solver for later analysis and visualisation. This will return a `Wavefunction` object which we'll look at briefly. It contains information about a wavefunction and its energy.\n",
    "\n",
    "Let's define some example data, bearing in mind that a `Wavefunction` normalises its data at each time step &mdash; you need not input a normalised amplitude."
   ]
  },
  {
   "cell_type": "code",
   "execution_count": 5,
   "metadata": {},
   "outputs": [],
   "source": [
    "Tmax = 2\n",
    "L = 1\n",
    "t = np.linspace(0, Tmax, 200)\n",
    "x = np.linspace(-L/2, L/2, 300)\n",
    "x1 = lambda t: -L/2\n",
    "x2 = lambda t: L/2 \n",
    "T, X = np.meshgrid(t, x, indexing='ij')\n",
    "amplitude = np.cos(2*np.pi*X/L) * np.exp(1j*np.pi*(X/L-T/Tmax))\n",
    "E = np.zeros(len(t))\n",
    "dE = np.zeros(len(t))\n",
    "psi = schrodinger.Wavefunction(amplitude, t, x1, x2, E, dE)"
   ]
  },
  {
   "cell_type": "markdown",
   "metadata": {},
   "source": [
    "The `Wavefunction`object has two methods avaliable:\n",
    " - `plot`, which shows a 3D view of the wavefunction. Optional arguments for `t` and `x` plot the wavefunction at different instants of time or space.\n",
    " - `animate`, which returns an animation of the wavefunction."
   ]
  },
  {
   "cell_type": "code",
   "execution_count": 6,
   "metadata": {},
   "outputs": [],
   "source": [
    "psi.plot()\n",
    "plt.show()"
   ]
  },
  {
   "cell_type": "code",
   "execution_count": 7,
   "metadata": {},
   "outputs": [],
   "source": [
    "psi.plot(t=1)\n",
    "plt.show()"
   ]
  },
  {
   "cell_type": "code",
   "execution_count": 8,
   "metadata": {},
   "outputs": [],
   "source": [
    "psi.plot(x=.2)\n",
    "plt.show()"
   ]
  },
  {
   "cell_type": "code",
   "execution_count": 9,
   "metadata": {},
   "outputs": [],
   "source": [
    "ani = psi.animate()\n",
    "plt.show()"
   ]
  },
  {
   "cell_type": "markdown",
   "metadata": {},
   "source": [
    "With this covered, let's check out the eigenfunctions of well known systems: the particle in a box and the harmonic oscillator. We'll do this using the `solve` function, which requires:\n",
    "- An initial wavefunction\n",
    "- Times array\n",
    "- Left boundary \n",
    "- Right boundary\n",
    "- Potential\n",
    "- Boundary condition type\n",
    "- Boundary functions (optional)"
   ]
  },
  {
   "cell_type": "code",
   "execution_count": 10,
   "metadata": {},
   "outputs": [],
   "source": [
    "# Particle in a box\n",
    "\n",
    "L = 1\n",
    "n = 3\n",
    "k = n * np.pi / L\n",
    "w = k**2 / 2\n",
    "T = 4 / w\n",
    "\n",
    "def PIB(n, x):\n",
    "    L = x[-1] - x[0]\n",
    "    k = n * np.pi / L \n",
    "    if n%2:\n",
    "        return np.cos(k*x)\n",
    "    else:\n",
    "        return np.sin(k*x)\n",
    "\n",
    "t = np.linspace(0, T, 100)\n",
    "x = np.linspace(-L/2, L/2, 1000)\n",
    "psi0 = PIB(n, x)\n",
    "V  = lambda t, x: 0\n",
    "x1 = lambda t: -L/2\n",
    "x2 = lambda t: L/2 \n",
    "psi = schrodinger.solve(psi0, t, x1, x2, V, BC='dirichlet')"
   ]
  },
  {
   "cell_type": "code",
   "execution_count": 11,
   "metadata": {},
   "outputs": [],
   "source": [
    "psi.plot(t=0)\n",
    "plt.show()"
   ]
  },
  {
   "cell_type": "code",
   "execution_count": 12,
   "metadata": {},
   "outputs": [],
   "source": [
    "psi.plot(x=0)\n",
    "plt.show()"
   ]
  },
  {
   "cell_type": "code",
   "execution_count": 13,
   "metadata": {},
   "outputs": [],
   "source": [
    "psi.plot()\n",
    "plt.show()"
   ]
  },
  {
   "cell_type": "code",
   "execution_count": 14,
   "metadata": {},
   "outputs": [],
   "source": [
    "ani = psi.animate()\n",
    "plt.show()"
   ]
  },
  {
   "cell_type": "code",
   "execution_count": 15,
   "metadata": {},
   "outputs": [],
   "source": [
    "# Harmonic oscillator\n",
    "from scipy.special import hermite\n",
    "\n",
    "w = 1\n",
    "n = 3\n",
    "L = 6 * np.sqrt((2*n+1)/w)\n",
    "T = 4 / w\n",
    "\n",
    "def HO(n, x):\n",
    "    Hn = hermite(n)\n",
    "    return np.exp(-w/2*x**2) * Hn(np.sqrt(w)*x)\n",
    "\n",
    "t = np.linspace(0, T, 100)\n",
    "x = np.linspace(-L/2, L/2, 1000)\n",
    "psi0 = HO(n, x)\n",
    "V  = lambda t, x: w**2/2 * x**2\n",
    "x1 = lambda t: -L/2\n",
    "x2 = lambda t: L/2 \n",
    "psi = schrodinger.solve(psi0, t, x1, x2, V, BC='periodic')"
   ]
  },
  {
   "cell_type": "code",
   "execution_count": 16,
   "metadata": {},
   "outputs": [],
   "source": [
    "psi.plot()\n",
    "plt.show()"
   ]
  },
  {
   "cell_type": "code",
   "execution_count": 17,
   "metadata": {},
   "outputs": [],
   "source": [
    "ani = psi.animate()\n",
    "plt.show()"
   ]
  },
  {
   "cell_type": "markdown",
   "metadata": {},
   "source": [
    "Now that we have covered some basic examples, why not play around with moving boundaries and arbitrary boundary conditions?"
   ]
  },
  {
   "cell_type": "code",
   "execution_count": 18,
   "metadata": {},
   "outputs": [],
   "source": [
    "L = 1\n",
    "n = 3\n",
    "k = n * np.pi / L\n",
    "w = k**2 / 2\n",
    "T = 4 / w\n",
    "\n",
    "t = np.linspace(0, T, 100)\n",
    "x = np.linspace(-L/2, L/2, 1000)\n",
    "psi0 = PIB(n, x)\n",
    "V  = lambda t, x: 0\n",
    "x1 = lambda t: -L/2 - .05 * w * t\n",
    "x2 = lambda t: L/2  + .05 * w * t\n",
    "psi = schrodinger.solve(psi0, t, x1, x2, V, BC='dirichlet')"
   ]
  },
  {
   "cell_type": "code",
   "execution_count": 19,
   "metadata": {},
   "outputs": [],
   "source": [
    "ani = psi.animate()\n",
    "plt.show()"
   ]
  },
  {
   "cell_type": "code",
   "execution_count": 20,
   "metadata": {},
   "outputs": [],
   "source": [
    "L = 1\n",
    "T = 2\n",
    "\n",
    "t = np.linspace(0, T, 100)\n",
    "x = np.linspace(-L/2, L/2, 1000)\n",
    "psi0 = 5* (x-L/2)*(x+L/2)**3 + 1\n",
    "V  = lambda t, x: 0\n",
    "x1 = lambda t: -1/2 - .05 * t\n",
    "x2 = lambda t: 1/2 + .05  * t \n",
    "f1 = lambda t: 1\n",
    "f2 = lambda t: 1\n",
    "psi = schrodinger.solve(psi0, t, x1, x2, V, BC='dirichlet', f=[f1, f2])"
   ]
  },
  {
   "cell_type": "code",
   "execution_count": 21,
   "metadata": {},
   "outputs": [],
   "source": [
    "ani = psi.animate()\n",
    "plt.show()"
   ]
  }
 ],
 "metadata": {
  "kernelspec": {
   "display_name": "venv",
   "language": "python",
   "name": "python3"
  },
  "language_info": {
   "codemirror_mode": {
    "name": "ipython",
    "version": 3
   },
   "file_extension": ".py",
   "mimetype": "text/x-python",
   "name": "python",
   "nbconvert_exporter": "python",
   "pygments_lexer": "ipython3",
   "version": "3.11.0"
  }
 },
 "nbformat": 4,
 "nbformat_minor": 2
}
