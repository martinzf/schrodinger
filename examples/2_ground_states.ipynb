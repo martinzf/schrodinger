{
 "cells": [
  {
   "cell_type": "code",
   "execution_count": 9,
   "metadata": {},
   "outputs": [],
   "source": [
    "import jax\n",
    "import jax.numpy as np\n",
    "jax.config.update('jax_enable_x64', True)\n",
    "import matplotlib.pyplot as plt\n",
    "\n",
    "import sys\n",
    "sys.path.append('../')\n",
    "import schrodinger"
   ]
  },
  {
   "cell_type": "markdown",
   "metadata": {},
   "source": [
    "## Ground States\n",
    "\n",
    "A common procedure to find the ground state of a quantum system is to perform imaginary time evolution. Formally, in a process known as Wick rotation, in the time evolution operator we swap\n",
    "\n",
    "$$\n",
    "e^{-itH}\\longrightarrow e^{-\\beta H}\n",
    "$$\n",
    "\n",
    "This trick is often used to relate problems in Minkowski metric ($\\mathrm{d}s^2=-\\mathrm{d}t^2+\\mathrm{d}\\bf{r}^2$) to problems in Euclidean metric ($\\mathrm{d}s^2=\\mathrm{d}\\beta^2+\\mathrm{d}\\bf{r}^2$).\n",
    "\n",
    "In the context of regular quantum mechanics however, we have switched from solving a dynamics problem to calculating a Boltzmann (thermal) distribution, with $\\beta$ the inverse temperature. As temperature approaches absolute zero ($\\beta\\rightarrow\\infty$) we find quantum systems settle into their ground state. \n",
    "\n",
    "Mathematically, what happens is that through an evolution via $e^{-\\beta H}$ we exponentially suppress high energy states. In the asymptotic limit, only the lowest energy state remains &mdash; if our initial state had a nonzero overlap with the ground state, this is the state we're left with."
   ]
  },
  {
   "cell_type": "markdown",
   "metadata": {},
   "source": [
    "We can perform this calculation with any system. As an example, let's calculate the ground state of the harmonic oscillator, which we know to be a Gaussian. We'll use a brute force initial guess, a constant wavefunction."
   ]
  },
  {
   "cell_type": "code",
   "execution_count": 10,
   "metadata": {},
   "outputs": [],
   "source": [
    "w = 1\n",
    "n = 3\n",
    "L = 6 * np.sqrt((2*n+1)/w)\n",
    "T = 2 / w\n",
    "\n",
    "t = np.linspace(0, T, 100)\n",
    "x = np.linspace(-L/2, L/2, 1000)\n",
    "psi0 = np.ones(len(x))\n",
    "V  = lambda t, x: w**2/2 * x**2\n",
    "x1 = lambda t: -L/2\n",
    "x2 = lambda t: L/2 \n",
    "psi = schrodinger.solve(psi0, t, x1, x2, V, BC='periodic', imag=True)"
   ]
  },
  {
   "cell_type": "code",
   "execution_count": 11,
   "metadata": {},
   "outputs": [],
   "source": [
    "ani = psi.animate()\n",
    "plt.show()"
   ]
  },
  {
   "cell_type": "markdown",
   "metadata": {},
   "source": [
    "Let's check how close our result is by comparing it to the exact ground state."
   ]
  },
  {
   "cell_type": "code",
   "execution_count": 12,
   "metadata": {},
   "outputs": [],
   "source": [
    "HO_ground = (w/np.pi)**(1/4) * np.exp(-w/2*x**2) \n",
    "\n",
    "psi.plot(t=T)\n",
    "plt.plot(x, HO_ground, '--')\n",
    "plt.show()"
   ]
  }
 ],
 "metadata": {
  "kernelspec": {
   "display_name": "venv",
   "language": "python",
   "name": "python3"
  },
  "language_info": {
   "codemirror_mode": {
    "name": "ipython",
    "version": 3
   },
   "file_extension": ".py",
   "mimetype": "text/x-python",
   "name": "python",
   "nbconvert_exporter": "python",
   "pygments_lexer": "ipython3",
   "version": "3.11.0"
  }
 },
 "nbformat": 4,
 "nbformat_minor": 2
}
